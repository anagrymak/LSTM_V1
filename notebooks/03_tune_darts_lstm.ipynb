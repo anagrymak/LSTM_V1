{
 "cells": [
  {
   "cell_type": "markdown",
   "id": "0e5ca23f-e5bd-49f7-ad14-9f5c9c95a482",
   "metadata": {},
   "source": [
    "# Tuning Darts LSTM model"
   ]
  },
  {
   "cell_type": "code",
   "execution_count": null,
   "id": "9d565654-3c88-4598-98c8-f20d13a9543f",
   "metadata": {},
   "outputs": [],
   "source": [
    "import logging\n",
    "import warnings\n",
    "from pathlib import Path\n",
    "from datetime import datetime\n",
    "\n",
    "import numpy as np\n",
    "import pandas as pd\n",
    "import optuna\n",
    "from darts import TimeSeries\n",
    "from darts import metrics\n",
    "from darts.dataprocessing.transformers import Scaler\n",
    "from pytorch_lightning.utilities.warnings import PossibleUserWarning\n",
    "\n",
    "import matplotlib.pyplot as plt\n",
    "import optuna.visualization as vis\n",
    "\n",
    "from src.resrnn import ResRNNModel"
   ]
  },
  {
   "cell_type": "code",
   "execution_count": null,
   "id": "2859e6a0-218e-43b8-9fd9-6e7f5dd02f06",
   "metadata": {},
   "outputs": [],
   "source": [
    "# disable warnings from PyTorch Lightning (false positive) and lower level of logging\n",
    "logging.getLogger(\"pytorch_lightning\").setLevel(logging.ERROR)\n",
    "warnings.filterwarnings(\"ignore\", category=PossibleUserWarning)"
   ]
  },
  {
   "cell_type": "markdown",
   "id": "881e27c7-2564-4deb-8f70-330d07b60280",
   "metadata": {},
   "source": [
    "## Notebook parameters"
   ]
  },
  {
   "cell_type": "markdown",
   "id": "b27465f0-5993-45fc-b03b-9842fefc30d9",
   "metadata": {},
   "source": [
    "The following cell contains the parameters of the notebook, that are changed by [papermill](https://github.com/nteract/papermill) when running non-interactively (on a larger scale):\n",
    "\n",
    "- `resultdir`, the folder where to save results,\n",
    "- `material`, which material to use,\n",
    "- `sample`, which sample to use,\n",
    "- `train_ratio`, fraction of data to set aside for training (vs. test),\n",
    "- `val_ratio`; fraction of training data to set aside for validation\n",
    "- `n_trials`, the total number of models  fitted by Optuna,\n",
    "- `n_epochs_max`, maximum number of epochs to train one model,\n",
    "- `seed`, random generator seed,\n",
    "- `use_tpe`, use TPE estimator (or BoTorch estimator if False)."
   ]
  },
  {
   "cell_type": "code",
   "execution_count": null,
   "id": "c1a9d876-9e86-4907-87d4-c4a8965d8942",
   "metadata": {
    "tags": [
     "parameters"
    ]
   },
   "outputs": [],
   "source": [
    "resultsdir = f\"../results/tune_darts_lstm_{datetime.now():%Y%m%dT%H%M}\"\n",
    "material = \"G4\"\n",
    "sample = \"S2\"\n",
    "train_ratio = 0.4\n",
    "val_ratio = 0.10\n",
    "n_trials = 5\n",
    "n_epochs_max = 100\n",
    "seed = 42\n",
    "use_tpe = True"
   ]
  },
  {
   "cell_type": "markdown",
   "id": "d0c0ecae-bbdb-4a0d-bff5-62c69f52c71c",
   "metadata": {},
   "source": [
    "## Data preparation"
   ]
  },
  {
   "cell_type": "code",
   "execution_count": null,
   "id": "22fe6727-ab32-4439-a5fb-ad1df712d5ea",
   "metadata": {},
   "outputs": [],
   "source": [
    "dset = pd.read_csv(\"../results/dataset_minutes.csv\")\n",
    "dset"
   ]
  },
  {
   "cell_type": "code",
   "execution_count": null,
   "id": "e80bf4a0-a346-4c5f-83be-12819c6011fb",
   "metadata": {},
   "outputs": [],
   "source": [
    "def prepare_col(dset, col):\n",
    "    serie = TimeSeries.from_dataframe(dset, time_col=\"Time [min]\", value_cols=col)\n",
    "    return serie.astype(np.float32)"
   ]
  },
  {
   "cell_type": "code",
   "execution_count": null,
   "id": "caa5b9b6-b282-463b-973c-f5bb199d8876",
   "metadata": {},
   "outputs": [],
   "source": [
    "dset_sample = dset[(dset[\"material\"] == material) & (dset[\"sample\"] == sample)]\n",
    "serie_wear = prepare_col(dset_sample, \"Wear Loss [mm]\")\n",
    "serie_idx = prepare_col(dset_sample, \"Time [min]\")\n",
    "serie_train, serie_test = serie_wear.split_after(train_ratio)"
   ]
  },
  {
   "cell_type": "code",
   "execution_count": null,
   "id": "f251f546-8312-4975-9ce3-811ddcab58eb",
   "metadata": {},
   "outputs": [],
   "source": [
    "_, ax = plt.subplots(figsize=(7, 4))\n",
    "serie_train.plot(label=\"train\", ax=ax)\n",
    "serie_test.plot(label=\"test\", ax=ax)\n",
    "_ = ax.set_ylabel(\"Wear Loss [mm]\")"
   ]
  },
  {
   "cell_type": "code",
   "execution_count": null,
   "id": "7c945792-abf0-4317-b29b-863e694d1fb6",
   "metadata": {},
   "outputs": [],
   "source": [
    "scaler = Scaler()\n",
    "serie_train_scaled, serie_idx_scaled = scaler.fit_transform([serie_train, serie_idx])"
   ]
  },
  {
   "cell_type": "markdown",
   "id": "0a035235-41ea-42b1-8b04-fa69f5ab052b",
   "metadata": {},
   "source": [
    "## Model tuning"
   ]
  },
  {
   "cell_type": "code",
   "execution_count": null,
   "id": "bb4ab534-096d-42d6-ae57-349648929706",
   "metadata": {},
   "outputs": [],
   "source": [
    "resultspath = Path(resultsdir)\n",
    "resultspath.mkdir(exist_ok=True, parents=True)"
   ]
  },
  {
   "cell_type": "code",
   "execution_count": null,
   "id": "11ebb1e0-97f6-4c47-aa72-03bc1f4a4cc1",
   "metadata": {},
   "outputs": [],
   "source": [
    "def objective(trial):\n",
    "    workdir = resultspath / f\"trial_{trial.number}\"\n",
    "    workdir.mkdir(exist_ok=True, parents=True)\n",
    "\n",
    "    train_len = int(len(serie_train_scaled) * (1.0 - val_ratio))\n",
    "    warmup = trial.suggest_int(\"warmup\", 10, train_len - 1)\n",
    "\n",
    "    n_rnn_layers = trial.suggest_int(\"n_rnn_layers\", 1, 3)\n",
    "    if n_rnn_layers > 1:\n",
    "        dropout = trial.suggest_float(\"dropout\", 0, 0.5)\n",
    "    else:\n",
    "        dropout = 0.0\n",
    "\n",
    "    model = ResRNNModel(\n",
    "        model=\"LSTM\",\n",
    "        input_chunk_length=warmup,\n",
    "        training_length=warmup,\n",
    "        hidden_dim=trial.suggest_int(\"hidden_dim\", 16, 128),\n",
    "        n_rnn_layers=n_rnn_layers,\n",
    "        dropout=dropout,\n",
    "        batch_size=trial.suggest_int(\"batch_size\", 1, 64),\n",
    "        n_epochs=trial.suggest_int(\"n_epochs\", 20, n_epochs_max, step=10),\n",
    "        optimizer_kwargs={\"lr\": trial.suggest_float(\"lr\", 1e-5, 1e-2, log=True)},\n",
    "        random_state=seed,\n",
    "        force_reset=True,\n",
    "        log_tensorboard=True,\n",
    "        pl_trainer_kwargs={\n",
    "            \"accelerator\": \"gpu\",\n",
    "            \"devices\": 1,\n",
    "            \"enable_progress_bar\": False,\n",
    "        },\n",
    "        show_warnings=True,\n",
    "        work_dir=resultspath,\n",
    "        model_name=f\"trial_{trial.number}\",\n",
    "    )\n",
    "\n",
    "    model.fit(\n",
    "        series=serie_train_scaled[:train_len],\n",
    "        val_series=serie_train_scaled[train_len - warmup :],\n",
    "        future_covariates=serie_idx_scaled,\n",
    "        val_future_covariates=serie_idx_scaled,\n",
    "    )\n",
    "\n",
    "    val_len = len(serie_train_scaled) - train_len\n",
    "    preds = model.predict(val_len, future_covariates=serie_idx_scaled)\n",
    "\n",
    "    return metrics.mae(serie_train_scaled[-1], preds[-1])"
   ]
  },
  {
   "cell_type": "code",
   "execution_count": null,
   "id": "bd80c685-fafb-4b3a-83e9-719d44bc138c",
   "metadata": {},
   "outputs": [],
   "source": [
    "storage = f\"sqlite:///{resultspath.resolve() / 'study.db'}\"\n",
    "\n",
    "if use_tpe:\n",
    "    sampler = optuna.samplers.TPESampler(seed=seed)\n",
    "else:\n",
    "    sampler = optuna.integration.BoTorchSampler(seed=seed)\n",
    "\n",
    "study = optuna.create_study(\n",
    "    direction=\"minimize\",\n",
    "    study_name=\"darts_lstm\",\n",
    "    storage=storage,\n",
    "    load_if_exists=True,\n",
    "    sampler=sampler,\n",
    ")\n",
    "\n",
    "n_runs = max(0, n_trials - len(study.get_trials()))\n",
    "study.optimize(objective, n_trials=n_runs)"
   ]
  },
  {
   "cell_type": "code",
   "execution_count": null,
   "id": "7521659b-dfe5-486d-837e-402cfd9ff5d7",
   "metadata": {},
   "outputs": [],
   "source": [
    "study.best_params"
   ]
  },
  {
   "cell_type": "code",
   "execution_count": null,
   "id": "87e5154f-a67b-42bc-9568-06ee950dab02",
   "metadata": {},
   "outputs": [],
   "source": [
    "vis.plot_parallel_coordinate(study)"
   ]
  },
  {
   "cell_type": "markdown",
   "id": "457caafa-c95a-4d38-bcc0-5c172f31b781",
   "metadata": {},
   "source": [
    "## Model training"
   ]
  },
  {
   "cell_type": "code",
   "execution_count": null,
   "id": "9449dddf-1327-4055-b64d-3d85b5649281",
   "metadata": {},
   "outputs": [],
   "source": [
    "model = ResRNNModel(\n",
    "    model=\"LSTM\",\n",
    "    input_chunk_length=study.best_params[\"warmup\"],\n",
    "    training_length=study.best_params[\"warmup\"],\n",
    "    hidden_dim=study.best_params[\"hidden_dim\"],\n",
    "    n_rnn_layers=study.best_params[\"n_rnn_layers\"],\n",
    "    dropout=study.best_params.get(\"dropout\", 0),\n",
    "    batch_size=study.best_params[\"batch_size\"],\n",
    "    n_epochs=study.best_params[\"n_epochs\"],\n",
    "    optimizer_kwargs={\"lr\": study.best_params[\"lr\"]},\n",
    "    random_state=seed,\n",
    "    force_reset=True,\n",
    "    log_tensorboard=True,\n",
    "    pl_trainer_kwargs={\n",
    "        \"accelerator\": \"gpu\",\n",
    "        \"devices\": 1,\n",
    "        \"enable_progress_bar\": False,\n",
    "    },\n",
    "    show_warnings=True,\n",
    "    work_dir=resultspath,\n",
    "    model_name=\"model\",\n",
    ")"
   ]
  },
  {
   "cell_type": "code",
   "execution_count": null,
   "id": "5d478193-511e-4be8-957e-ae0e9dea7a92",
   "metadata": {},
   "outputs": [],
   "source": [
    "%%time\n",
    "model.fit(serie_train_scaled, future_covariates=serie_idx_scaled)"
   ]
  },
  {
   "cell_type": "code",
   "execution_count": null,
   "id": "7acdefde-3eca-4752-8451-8f8a43293bc3",
   "metadata": {},
   "outputs": [],
   "source": [
    "model.save(str(resultspath / \"model.pt\"))"
   ]
  },
  {
   "cell_type": "markdown",
   "id": "357bbbd5-355f-414a-bddc-a394a603cb0e",
   "metadata": {},
   "source": [
    "## Predictions"
   ]
  },
  {
   "cell_type": "code",
   "execution_count": null,
   "id": "0a4a1a9c-f56c-46cd-9ec3-b46d0e4bf20b",
   "metadata": {},
   "outputs": [],
   "source": [
    "serie_forecast_scaled = model.predict(\n",
    "    len(serie_test), future_covariates=serie_idx_scaled\n",
    ")\n",
    "serie_forecast = scaler.inverse_transform(serie_forecast_scaled)"
   ]
  },
  {
   "cell_type": "code",
   "execution_count": null,
   "id": "28086184-d3ef-435a-86a5-c9c6034f77f5",
   "metadata": {},
   "outputs": [],
   "source": [
    "fig, ax = plt.subplots(figsize=(7, 4))\n",
    "serie_train.plot(label=\"train\", ax=ax)\n",
    "serie_test.plot(label=\"test\", ax=ax)\n",
    "serie_forecast.plot(label=\"predictions\", ax=ax)\n",
    "_ = ax.set_ylabel(\"Wear Loss [mm]\")"
   ]
  },
  {
   "cell_type": "code",
   "execution_count": null,
   "id": "b05f00ec-da53-4e2f-83ee-e51086174518",
   "metadata": {},
   "outputs": [],
   "source": [
    "pd_serie_forecast = serie_forecast.pd_series().rename(\"forecast\")\n",
    "dset_forecast = dset_sample.set_index(\"Time [min]\").join(pd_serie_forecast)\n",
    "dset_forecast.to_csv(resultspath / \"predictions.csv\")"
   ]
  },
  {
   "cell_type": "code",
   "execution_count": null,
   "id": "0ac3260f-039f-4d69-9191-db0675ae5b49",
   "metadata": {},
   "outputs": [],
   "source": [
    "fig.savefig(resultspath / \"predictions.png\", bbox_inches=\"tight\")"
   ]
  },
  {
   "cell_type": "code",
   "execution_count": null,
   "id": "69932b56-65fe-4ddb-bca6-844789dae629",
   "metadata": {},
   "outputs": [],
   "source": [
    "scores_functions = {\n",
    "    \"MAE\": metrics.mae,\n",
    "    \"RMSE\": metrics.rmse,\n",
    "    \"MAPE\": metrics.mape,\n",
    "}"
   ]
  },
  {
   "cell_type": "code",
   "execution_count": null,
   "id": "fd1ec09e-0064-4def-b25a-fa4b04c04679",
   "metadata": {},
   "outputs": [],
   "source": [
    "scores = {}\n",
    "for key, func in scores_functions.items():\n",
    "    scores[f\"{key}_end\"] = func(serie_test[-1], serie_forecast[-1])\n",
    "    scores[f\"{key}_avg\"] = func(serie_test, serie_forecast)\n",
    "\n",
    "scores = (\n",
    "    pd.DataFrame.from_dict(scores, orient=\"index\", columns=(\"value\",))\n",
    "    .reset_index()\n",
    "    .rename(columns={\"index\": \"metric\"})\n",
    ")"
   ]
  },
  {
   "cell_type": "code",
   "execution_count": null,
   "id": "b90309d8-589f-4771-82b9-6d6e12117d87",
   "metadata": {},
   "outputs": [],
   "source": [
    "scores"
   ]
  },
  {
   "cell_type": "code",
   "execution_count": null,
   "id": "ee2ac7eb-48cb-4b46-b0a5-bc6d52471277",
   "metadata": {},
   "outputs": [],
   "source": [
    "scores.to_csv(resultspath / \"scores.csv\", index=False)"
   ]
  },
  {
   "cell_type": "code",
   "execution_count": null,
   "id": "b03e7f8c-bd45-402d-b4fd-3a91ab360a24",
   "metadata": {},
   "outputs": [],
   "source": []
  }
 ],
 "metadata": {
  "kernelspec": {
   "display_name": "ml_tooth",
   "language": "python",
   "name": "ml_tooth"
  },
  "language_info": {
   "codemirror_mode": {
    "name": "ipython",
    "version": 3
   },
   "file_extension": ".py",
   "mimetype": "text/x-python",
   "name": "python",
   "nbconvert_exporter": "python",
   "pygments_lexer": "ipython3",
   "version": "3.10.5"
  }
 },
 "nbformat": 4,
 "nbformat_minor": 5
}
