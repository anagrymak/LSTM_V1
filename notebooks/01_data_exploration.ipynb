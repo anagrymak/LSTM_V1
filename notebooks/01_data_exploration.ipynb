{
 "cells": [
  {
   "cell_type": "markdown",
   "id": "e056d145-2ed3-4f7e-b187-f2690a162480",
   "metadata": {},
   "source": [
    "# Data exploration"
   ]
  },
  {
   "cell_type": "code",
   "execution_count": null,
   "id": "37d320a8-8725-49f0-a5be-415e567f0c4e",
   "metadata": {},
   "outputs": [],
   "source": [
    "from pathlib import Path\n",
    "\n",
    "import pandas as pd\n",
    "import seaborn as sb\n",
    "\n",
    "sb.set()"
   ]
  },
  {
   "cell_type": "markdown",
   "id": "91f0d786-ecbc-4be4-b92f-d348872d17fa",
   "metadata": {},
   "source": [
    "## Load a first data set"
   ]
  },
  {
   "cell_type": "code",
   "execution_count": null,
   "id": "95c97ccd-ccb2-43ff-97c8-df079a421000",
   "metadata": {},
   "outputs": [],
   "source": [
    "dset = pd.read_csv(\"/nesi/project/uoo03699/G1_S1.csv\")\n",
    "dset"
   ]
  },
  {
   "cell_type": "code",
   "execution_count": null,
   "id": "e41f9f79-dc6c-494e-84da-9ec4b508e12a",
   "metadata": {},
   "outputs": [],
   "source": [
    "dset.info()"
   ]
  },
  {
   "cell_type": "code",
   "execution_count": null,
   "id": "e0422e8f-6dd3-46d7-ab74-1d8423aea3c6",
   "metadata": {},
   "outputs": [],
   "source": [
    "dset.isnull().any()"
   ]
  },
  {
   "cell_type": "code",
   "execution_count": null,
   "id": "69192e9d-bc51-4b63-b5ed-b7f721e4e2af",
   "metadata": {},
   "outputs": [],
   "source": [
    "features = [\n",
    "    \"Line Distance [m]\",\n",
    "    \"Normal Load [N]\",\n",
    "    \"Friction Force [N]\",\n",
    "    \"Friction Coeff.\",\n",
    "]\n",
    "target = \"Wear Loss [mm]\""
   ]
  },
  {
   "cell_type": "code",
   "execution_count": null,
   "id": "fad2a634-84cc-4fa9-b97a-9ef05aeb165d",
   "metadata": {},
   "outputs": [],
   "source": [
    "_ = dset.plot(x=\"Time [sec]\", y=features, subplots=True, figsize=(15, 7))"
   ]
  },
  {
   "cell_type": "code",
   "execution_count": null,
   "id": "626b9a07-79c2-4c42-a775-fadd9b189da8",
   "metadata": {},
   "outputs": [],
   "source": [
    "_ = dset.plot(x=\"Time [sec]\", y=target, figsize=(15, 7))"
   ]
  },
  {
   "cell_type": "markdown",
   "id": "25910794-5ca7-4993-b316-6db5e00e04c7",
   "metadata": {},
   "source": [
    "## Compare wear curves for all materials"
   ]
  },
  {
   "cell_type": "code",
   "execution_count": null,
   "id": "223e4310-fc2d-4ecf-994f-fbe5ef7c9ff6",
   "metadata": {},
   "outputs": [],
   "source": [
    "dset = []\n",
    "\n",
    "for path in Path(\"/nesi/project/uoo03699\").glob(\"*_*.csv\"):\n",
    "    material, sample = path.stem.split(\"_\")\n",
    "    dset_sample = (\n",
    "        pd.read_csv(path, low_memory=False)\n",
    "        .assign(sample=sample, material=material)\n",
    "        .dropna()  # remove few malformed lines at the end with no data\n",
    "        .astype({\"Time [sec]\": int})\n",
    "    )\n",
    "    dset.append(dset_sample)\n",
    "\n",
    "dset = pd.concat(dset).reset_index(drop=True)\n",
    "dset"
   ]
  },
  {
   "cell_type": "code",
   "execution_count": null,
   "id": "84fe582b-945b-487e-8da0-be6caee07670",
   "metadata": {},
   "outputs": [],
   "source": [
    "dset.info()"
   ]
  },
  {
   "cell_type": "code",
   "execution_count": null,
   "id": "398ffa73-6817-49a3-9b79-f364ce1b8f02",
   "metadata": {},
   "outputs": [],
   "source": [
    "_ = sb.relplot(\n",
    "    data=dset,\n",
    "    x=\"Time [sec]\",\n",
    "    y=target,\n",
    "    hue=\"sample\",\n",
    "    col=\"material\",\n",
    "    col_wrap=2,\n",
    "    kind=\"line\",\n",
    "    aspect=2,\n",
    "    facet_kws={\"sharey\": False},\n",
    "    col_order=sorted(dset[\"material\"].unique()),\n",
    "    hue_order=sorted(dset[\"sample\"].unique()),\n",
    ")"
   ]
  },
  {
   "cell_type": "markdown",
   "id": "e4ab216e-659a-474c-993b-46b6f928ed86",
   "metadata": {},
   "source": [
    "## Reduce curves resolution\n",
    "\n",
    "Let's resample from seconds to minute data, taking the average."
   ]
  },
  {
   "cell_type": "code",
   "execution_count": null,
   "id": "bf22361c-c0f2-43a9-b7de-d89e3e372512",
   "metadata": {},
   "outputs": [],
   "source": [
    "dset[\"Time [min]\"] = dset[\"Time [sec]\"] // 600"
   ]
  },
  {
   "cell_type": "code",
   "execution_count": null,
   "id": "58f46434-bd91-4ef6-9e23-360a69d5c205",
   "metadata": {},
   "outputs": [],
   "source": [
    "# columns to keep in the resampled dataset\n",
    "cols = [\"Line Distance [m]\", target]\n",
    "dset_small = (\n",
    "    dset.groupby([\"material\", \"sample\", \"Time [min]\"])[cols].mean().reset_index()\n",
    ")\n",
    "dset_small"
   ]
  },
  {
   "cell_type": "code",
   "execution_count": null,
   "id": "a8e5f7f3-296e-43e6-b3a1-6af66b499a66",
   "metadata": {},
   "outputs": [],
   "source": [
    "_ = sb.relplot(\n",
    "    data=dset_small,\n",
    "    x=\"Time [min]\",\n",
    "    y=target,\n",
    "    hue=\"sample\",\n",
    "    col=\"material\",\n",
    "    col_wrap=2,\n",
    "    kind=\"line\",\n",
    "    aspect=2,\n",
    "    facet_kws={\"sharey\": False},\n",
    "    col_order=sorted(dset_small[\"material\"].unique()),\n",
    "    hue_order=sorted(dset_small[\"sample\"].unique()),\n",
    ")"
   ]
  },
  {
   "cell_type": "markdown",
   "id": "ebb3fc22-a69a-4c3e-bd72-35a65b8f1bdd",
   "metadata": {},
   "source": [
    "Save prepared data in a `results` folder."
   ]
  },
  {
   "cell_type": "code",
   "execution_count": null,
   "id": "3ca42b9b-0dc2-4e46-a517-6b46b6e95efe",
   "metadata": {},
   "outputs": [],
   "source": [
    "results_dir = Path(\"../results\")\n",
    "results_dir.mkdir(exist_ok=True, parents=True)\n",
    "dset_small.to_csv(results_dir / \"dataset_minutes_10m.csv\", index=False)"
   ]
  },
  {
   "cell_type": "code",
   "execution_count": null,
   "id": "10670c9c-402e-4989-bae6-707153b15c05",
   "metadata": {},
   "outputs": [],
   "source": []
  }
 ],
 "metadata": {
  "kernelspec": {
   "display_name": "ml_tooth",
   "language": "python",
   "name": "ml_tooth"
  },
  "language_info": {
   "codemirror_mode": {
    "name": "ipython",
    "version": 3
   },
   "file_extension": ".py",
   "mimetype": "text/x-python",
   "name": "python",
   "nbconvert_exporter": "python",
   "pygments_lexer": "ipython3",
   "version": "3.10.5"
  }
 },
 "nbformat": 4,
 "nbformat_minor": 5
}
