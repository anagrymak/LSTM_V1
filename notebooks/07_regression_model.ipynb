{
 "cells": [
  {
   "cell_type": "markdown",
   "id": "0e5ca23f-e5bd-49f7-ad14-9f5c9c95a482",
   "metadata": {},
   "source": [
    "# Darts regression model"
   ]
  },
  {
   "cell_type": "code",
   "execution_count": null,
   "id": "252f59a6-08fc-4893-937b-fd1dc5b253e7",
   "metadata": {},
   "outputs": [],
   "source": [
    "import warnings\n",
    "\n",
    "import pandas as pd\n",
    "from darts.models import RegressionModel\n",
    "from darts.dataprocessing.transformers import Scaler\n",
    "from sklearn.compose import TransformedTargetRegressor\n",
    "from sklearn.neural_network import MLPRegressor\n",
    "from sklearn.pipeline import make_pipeline\n",
    "from sklearn.preprocessing import StandardScaler\n",
    "\n",
    "from src.utils import prepare_col, historical_forecasts, plot_forecasts"
   ]
  },
  {
   "cell_type": "markdown",
   "id": "d0c0ecae-bbdb-4a0d-bff5-62c69f52c71c",
   "metadata": {},
   "source": [
    "## Data preparation"
   ]
  },
  {
   "cell_type": "code",
   "execution_count": null,
   "id": "22fe6727-ab32-4439-a5fb-ad1df712d5ea",
   "metadata": {},
   "outputs": [],
   "source": [
    "dset = pd.read_csv(\"../results/dataset_minutes.csv\")\n",
    "dset"
   ]
  },
  {
   "cell_type": "code",
   "execution_count": null,
   "id": "d9cb0fd5-f59b-4f67-9022-e5eceb258a9d",
   "metadata": {},
   "outputs": [],
   "source": [
    "train_materials = [\"G5\", \"G6\", \"G8\", \"G9\"]\n",
    "test_materials = [\"G7\"]"
   ]
  },
  {
   "cell_type": "code",
   "execution_count": null,
   "id": "97104bb8-35b1-4423-948e-995ce7f37099",
   "metadata": {},
   "outputs": [],
   "source": [
    "dset_train = dset[dset.material.isin(train_materials)]\n",
    "groups_train = dset_train.groupby([\"material\", \"sample\"])\n",
    "series_train = [prepare_col(group, \"Wear Loss [mm]\") for _, group in groups_train]\n",
    "series_train_idx = [prepare_col(group, \"Time [min]\") for _, group in groups_train]\n",
    "\n",
    "scaler = Scaler().fit([series_train[0], series_train_idx[0]])\n",
    "series_train_scaled, series_train_idx_scaled = zip(\n",
    "    *[scaler.transform(series) for series in zip(series_train, series_train_idx)]\n",
    ")"
   ]
  },
  {
   "cell_type": "markdown",
   "id": "0a035235-41ea-42b1-8b04-fa69f5ab052b",
   "metadata": {},
   "source": [
    "## Model training"
   ]
  },
  {
   "cell_type": "code",
   "execution_count": null,
   "id": "7f495e1b-9e81-484a-a778-c29350249901",
   "metadata": {},
   "outputs": [],
   "source": [
    "mlp = make_pipeline(\n",
    "    StandardScaler(),\n",
    "    TransformedTargetRegressor(MLPRegressor(), transformer=StandardScaler()),\n",
    ")\n",
    "\n",
    "model = RegressionModel(\n",
    "    lags=100, lags_future_covariates=[1], output_chunk_length=300, model=mlp\n",
    ")"
   ]
  },
  {
   "cell_type": "code",
   "execution_count": null,
   "id": "0fe32b24-6703-4f18-ae01-89cc176b41ff",
   "metadata": {},
   "outputs": [],
   "source": [
    "%%time\n",
    "with warnings.catch_warnings():\n",
    "    warnings.filterwarnings(\"ignore\")\n",
    "    model.fit(series_train_scaled, future_covariates=series_train_idx_scaled)"
   ]
  },
  {
   "cell_type": "markdown",
   "id": "357bbbd5-355f-414a-bddc-a394a603cb0e",
   "metadata": {},
   "source": [
    "## Predictions"
   ]
  },
  {
   "cell_type": "code",
   "execution_count": null,
   "id": "61577276-6241-45ef-b682-c7e87554ddbf",
   "metadata": {},
   "outputs": [],
   "source": [
    "n_warmup = [1000, 2000]"
   ]
  },
  {
   "cell_type": "code",
   "execution_count": null,
   "id": "0f644371-4b6b-4b39-bc74-f567ad05f8f4",
   "metadata": {},
   "outputs": [],
   "source": [
    "%%time\n",
    "dset_pred = dset[dset.material.isin(train_materials + test_materials)]\n",
    "forecasts = {\n",
    "    key: historical_forecasts(model, scaler, group, n_warmup=n_warmup, n_lags=1)\n",
    "    for key, group in dset_pred.groupby([\"material\", \"sample\"])\n",
    "}"
   ]
  },
  {
   "cell_type": "code",
   "execution_count": null,
   "id": "81debe3e-9201-4b1f-82e4-a2c9b28c952d",
   "metadata": {},
   "outputs": [],
   "source": [
    "_ = plot_forecasts(forecasts, n_warmup, n_col=4)"
   ]
  },
  {
   "cell_type": "code",
   "execution_count": null,
   "id": "ba186610-c2fb-4442-8a31-80e3570b9cc4",
   "metadata": {},
   "outputs": [],
   "source": []
  }
 ],
 "metadata": {
  "kernelspec": {
   "display_name": "ml_tooth",
   "language": "python",
   "name": "ml_tooth"
  },
  "language_info": {
   "codemirror_mode": {
    "name": "ipython",
    "version": 3
   },
   "file_extension": ".py",
   "mimetype": "text/x-python",
   "name": "python",
   "nbconvert_exporter": "python",
   "pygments_lexer": "ipython3",
   "version": "3.10.5"
  }
 },
 "nbformat": 4,
 "nbformat_minor": 5
}
