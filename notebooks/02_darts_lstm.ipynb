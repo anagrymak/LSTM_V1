{
 "cells": [
  {
   "cell_type": "markdown",
   "id": "0e5ca23f-e5bd-49f7-ad14-9f5c9c95a482",
   "metadata": {},
   "source": [
    "# Darts LSTM model"
   ]
  },
  {
   "cell_type": "code",
   "execution_count": null,
   "id": "252f59a6-08fc-4893-937b-fd1dc5b253e7",
   "metadata": {},
   "outputs": [],
   "source": [
    "import numpy as np\n",
    "import pandas as pd\n",
    "from darts import TimeSeries\n",
    "from darts import metrics\n",
    "from darts.dataprocessing.transformers import Scaler\n",
    "\n",
    "import matplotlib.pyplot as plt\n",
    "\n",
    "from src.resrnn import ResRNNModel"
   ]
  },
  {
   "cell_type": "markdown",
   "id": "d0c0ecae-bbdb-4a0d-bff5-62c69f52c71c",
   "metadata": {},
   "source": [
    "## Data preparation"
   ]
  },
  {
   "cell_type": "code",
   "execution_count": null,
   "id": "22fe6727-ab32-4439-a5fb-ad1df712d5ea",
   "metadata": {},
   "outputs": [],
   "source": [
    "dset = pd.read_csv(\"../results/dataset_minutes.csv\")\n",
    "dset"
   ]
  },
  {
   "cell_type": "code",
   "execution_count": null,
   "id": "95743f94-0bda-4dcf-bd34-133582cab997",
   "metadata": {},
   "outputs": [],
   "source": [
    "material = \"G4\"\n",
    "sample = \"S2\"\n",
    "train_ratio = 0.4"
   ]
  },
  {
   "cell_type": "code",
   "execution_count": null,
   "id": "7b18f18d-eeb0-4a63-91d5-d526d1d39432",
   "metadata": {},
   "outputs": [],
   "source": [
    "def prepare_col(dset, col):\n",
    "    serie = TimeSeries.from_dataframe(dset, time_col=\"Time [min]\", value_cols=col)\n",
    "    return serie.astype(np.float32)"
   ]
  },
  {
   "cell_type": "code",
   "execution_count": null,
   "id": "64cd3967-8e52-4655-aa4e-9fbf8ffd0fdc",
   "metadata": {},
   "outputs": [],
   "source": [
    "dset_sample = dset[(dset[\"material\"] == material) & (dset[\"sample\"] == sample)]\n",
    "serie_wear = prepare_col(dset_sample, \"Wear Loss [mm]\")\n",
    "serie_idx = prepare_col(dset_sample, \"Time [min]\")\n",
    "serie_train, serie_test = serie_wear.split_after(train_ratio)"
   ]
  },
  {
   "cell_type": "code",
   "execution_count": null,
   "id": "2d81f7ab-286f-4952-8c09-fcbe8eb27591",
   "metadata": {},
   "outputs": [],
   "source": [
    "_, ax = plt.subplots(figsize=(7, 4))\n",
    "serie_train.plot(label=\"train\", ax=ax)\n",
    "serie_test.plot(label=\"test\", ax=ax)\n",
    "_ = ax.set_ylabel(\"Wear Loss [mm]\")"
   ]
  },
  {
   "cell_type": "code",
   "execution_count": null,
   "id": "ede5d2d1-b3b6-4f68-934f-d28d88728c48",
   "metadata": {},
   "outputs": [],
   "source": [
    "scaler = Scaler()\n",
    "serie_train_scaled, serie_idx_scaled = scaler.fit_transform([serie_train, serie_idx])"
   ]
  },
  {
   "cell_type": "markdown",
   "id": "0a035235-41ea-42b1-8b04-fa69f5ab052b",
   "metadata": {},
   "source": [
    "## Model training\n",
    "\n",
    "Here we define some key hyperparameters for the `RNNModel` class.\n",
    "See [Darts documentation](https://unit8co.github.io/darts/generated_api/darts.models.forecasting.rnn_model.html) for more information."
   ]
  },
  {
   "cell_type": "code",
   "execution_count": null,
   "id": "98490f46-764d-4667-a936-f50c23921ee0",
   "metadata": {},
   "outputs": [],
   "source": [
    "warmup = 250\n",
    "model = ResRNNModel(\n",
    "    model=\"LSTM\",\n",
    "    input_chunk_length=warmup,\n",
    "    training_length=warmup,\n",
    "    hidden_dim=64,\n",
    "    n_rnn_layers=1,\n",
    "    batch_size=32,\n",
    "    dropout=0.0,\n",
    "    n_epochs=100,\n",
    "    optimizer_kwargs={\"lr\": 1e-3},\n",
    "    random_state=42,\n",
    "    force_reset=True,\n",
    "    log_tensorboard=True,\n",
    "    show_warnings=True,\n",
    "    pl_trainer_kwargs={\"accelerator\": \"gpu\", \"devices\": 1},\n",
    ")"
   ]
  },
  {
   "cell_type": "code",
   "execution_count": null,
   "id": "0fe32b24-6703-4f18-ae01-89cc176b41ff",
   "metadata": {},
   "outputs": [],
   "source": [
    "model.fit(serie_train_scaled, future_covariates=serie_idx_scaled)"
   ]
  },
  {
   "cell_type": "markdown",
   "id": "357bbbd5-355f-414a-bddc-a394a603cb0e",
   "metadata": {},
   "source": [
    "## Predictions"
   ]
  },
  {
   "cell_type": "code",
   "execution_count": null,
   "id": "9c35d1bb-e336-473d-9c33-b30a8724a6d1",
   "metadata": {},
   "outputs": [],
   "source": [
    "serie_forecast_scaled = model.predict(\n",
    "    len(serie_test), future_covariates=serie_idx_scaled\n",
    ")\n",
    "serie_forecast = scaler.inverse_transform(serie_forecast_scaled)"
   ]
  },
  {
   "cell_type": "code",
   "execution_count": null,
   "id": "7afe462f-aa2b-4350-a886-a37502041bd0",
   "metadata": {},
   "outputs": [],
   "source": [
    "_, ax = plt.subplots(figsize=(7, 4))\n",
    "serie_train.plot(label=\"train\", ax=ax)\n",
    "serie_test.plot(label=\"test\", ax=ax)\n",
    "serie_forecast.plot(label=\"predictions\", ax=ax)\n",
    "_ = ax.set_ylabel(\"Wear Loss [mm]\")"
   ]
  },
  {
   "cell_type": "markdown",
   "id": "1d710883-bf5f-48ad-afe3-f69cb7328038",
   "metadata": {},
   "source": [
    "We compute errors between obserbation and predictions but only at the **end point** of the trace."
   ]
  },
  {
   "cell_type": "code",
   "execution_count": null,
   "id": "f72f5160-79d3-4d2e-b77e-c813cb5d7237",
   "metadata": {},
   "outputs": [],
   "source": [
    "scores_functions = {\n",
    "    \"MAE\": metrics.mae,\n",
    "    \"RMSE\": metrics.rmse,\n",
    "    \"MAPE\": metrics.mape,\n",
    "}"
   ]
  },
  {
   "cell_type": "code",
   "execution_count": null,
   "id": "82ac2b86-f7e7-473e-bc26-ce57f18008c5",
   "metadata": {},
   "outputs": [],
   "source": [
    "scores = {\n",
    "    key: func(serie_test[-1], serie_forecast[-1])\n",
    "    for key, func in scores_functions.items()\n",
    "}\n",
    "scores = (\n",
    "    pd.DataFrame.from_dict(scores, orient=\"index\", columns=(\"value\",))\n",
    "    .reset_index()\n",
    "    .rename(columns={\"index\": \"metric\"})\n",
    ")"
   ]
  },
  {
   "cell_type": "code",
   "execution_count": null,
   "id": "9ba16496-cee6-4bd6-b2a9-7b4dc9d6bd67",
   "metadata": {},
   "outputs": [],
   "source": [
    "scores"
   ]
  },
  {
   "cell_type": "code",
   "execution_count": null,
   "id": "a37cfcc0-7965-4bc8-b9bd-1dfb48bdd445",
   "metadata": {},
   "outputs": [],
   "source": []
  }
 ],
 "metadata": {
  "kernelspec": {
   "display_name": "ml_tooth",
   "language": "python",
   "name": "ml_tooth"
  },
  "language_info": {
   "codemirror_mode": {
    "name": "ipython",
    "version": 3
   },
   "file_extension": ".py",
   "mimetype": "text/x-python",
   "name": "python",
   "nbconvert_exporter": "python",
   "pygments_lexer": "ipython3",
   "version": "3.10.5"
  }
 },
 "nbformat": 4,
 "nbformat_minor": 5
}
