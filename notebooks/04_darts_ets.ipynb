{
 "cells": [
  {
   "cell_type": "markdown",
   "id": "0e5ca23f-e5bd-49f7-ad14-9f5c9c95a482",
   "metadata": {},
   "source": [
    "# Darts ETS model"
   ]
  },
  {
   "cell_type": "code",
   "execution_count": 1,
   "id": "252f59a6-08fc-4893-937b-fd1dc5b253e7",
   "metadata": {},
   "outputs": [
    {
     "name": "stderr",
     "output_type": "stream",
     "text": [
      "/scale_wlg_persistent/filesets/project/nesi99999/riom/LSTM-ML-for-teeth/venv/lib/python3.10/site-packages/tqdm/auto.py:22: TqdmWarning: IProgress not found. Please update jupyter and ipywidgets. See https://ipywidgets.readthedocs.io/en/stable/user_install.html\n",
      "  from .autonotebook import tqdm as notebook_tqdm\n"
     ]
    }
   ],
   "source": [
    "import numpy as np\n",
    "import pandas as pd\n",
    "from darts import TimeSeries\n",
    "from darts import metrics\n",
    "from darts.models import ExponentialSmoothing\n",
    "from darts.utils.utils import ModelMode\n",
    "from darts.dataprocessing.transformers import Scaler\n",
    "\n",
    "import matplotlib.pyplot as plt"
   ]
  },
  {
   "cell_type": "markdown",
   "id": "d0c0ecae-bbdb-4a0d-bff5-62c69f52c71c",
   "metadata": {},
   "source": [
    "## Data preparation"
   ]
  },
  {
   "cell_type": "code",
   "execution_count": 2,
   "id": "22fe6727-ab32-4439-a5fb-ad1df712d5ea",
   "metadata": {},
   "outputs": [
    {
     "data": {
      "text/html": [
       "<div>\n",
       "<style scoped>\n",
       "    .dataframe tbody tr th:only-of-type {\n",
       "        vertical-align: middle;\n",
       "    }\n",
       "\n",
       "    .dataframe tbody tr th {\n",
       "        vertical-align: top;\n",
       "    }\n",
       "\n",
       "    .dataframe thead th {\n",
       "        text-align: right;\n",
       "    }\n",
       "</style>\n",
       "<table border=\"1\" class=\"dataframe\">\n",
       "  <thead>\n",
       "    <tr style=\"text-align: right;\">\n",
       "      <th></th>\n",
       "      <th>material</th>\n",
       "      <th>sample</th>\n",
       "      <th>Time [min]</th>\n",
       "      <th>Line Distance [m]</th>\n",
       "      <th>Wear Loss [mm]</th>\n",
       "    </tr>\n",
       "  </thead>\n",
       "  <tbody>\n",
       "    <tr>\n",
       "      <th>0</th>\n",
       "      <td>G1</td>\n",
       "      <td>S1</td>\n",
       "      <td>0</td>\n",
       "      <td>0.118</td>\n",
       "      <td>-0.001950</td>\n",
       "    </tr>\n",
       "    <tr>\n",
       "      <th>1</th>\n",
       "      <td>G1</td>\n",
       "      <td>S1</td>\n",
       "      <td>1</td>\n",
       "      <td>0.358</td>\n",
       "      <td>-0.000967</td>\n",
       "    </tr>\n",
       "    <tr>\n",
       "      <th>2</th>\n",
       "      <td>G1</td>\n",
       "      <td>S1</td>\n",
       "      <td>2</td>\n",
       "      <td>0.598</td>\n",
       "      <td>-0.001717</td>\n",
       "    </tr>\n",
       "    <tr>\n",
       "      <th>3</th>\n",
       "      <td>G1</td>\n",
       "      <td>S1</td>\n",
       "      <td>3</td>\n",
       "      <td>0.838</td>\n",
       "      <td>-0.000992</td>\n",
       "    </tr>\n",
       "    <tr>\n",
       "      <th>4</th>\n",
       "      <td>G1</td>\n",
       "      <td>S1</td>\n",
       "      <td>4</td>\n",
       "      <td>1.078</td>\n",
       "      <td>-0.001683</td>\n",
       "    </tr>\n",
       "    <tr>\n",
       "      <th>...</th>\n",
       "      <td>...</td>\n",
       "      <td>...</td>\n",
       "      <td>...</td>\n",
       "      <td>...</td>\n",
       "      <td>...</td>\n",
       "    </tr>\n",
       "    <tr>\n",
       "      <th>236802</th>\n",
       "      <td>G9</td>\n",
       "      <td>S5</td>\n",
       "      <td>4162</td>\n",
       "      <td>998.998</td>\n",
       "      <td>0.162267</td>\n",
       "    </tr>\n",
       "    <tr>\n",
       "      <th>236803</th>\n",
       "      <td>G9</td>\n",
       "      <td>S5</td>\n",
       "      <td>4163</td>\n",
       "      <td>999.238</td>\n",
       "      <td>0.164275</td>\n",
       "    </tr>\n",
       "    <tr>\n",
       "      <th>236804</th>\n",
       "      <td>G9</td>\n",
       "      <td>S5</td>\n",
       "      <td>4164</td>\n",
       "      <td>999.478</td>\n",
       "      <td>0.163733</td>\n",
       "    </tr>\n",
       "    <tr>\n",
       "      <th>236805</th>\n",
       "      <td>G9</td>\n",
       "      <td>S5</td>\n",
       "      <td>4165</td>\n",
       "      <td>999.718</td>\n",
       "      <td>0.163325</td>\n",
       "    </tr>\n",
       "    <tr>\n",
       "      <th>236806</th>\n",
       "      <td>G9</td>\n",
       "      <td>S5</td>\n",
       "      <td>4166</td>\n",
       "      <td>999.918</td>\n",
       "      <td>0.162912</td>\n",
       "    </tr>\n",
       "  </tbody>\n",
       "</table>\n",
       "<p>236807 rows × 5 columns</p>\n",
       "</div>"
      ],
      "text/plain": [
       "       material sample  Time [min]  Line Distance [m]  Wear Loss [mm]\n",
       "0            G1     S1           0              0.118       -0.001950\n",
       "1            G1     S1           1              0.358       -0.000967\n",
       "2            G1     S1           2              0.598       -0.001717\n",
       "3            G1     S1           3              0.838       -0.000992\n",
       "4            G1     S1           4              1.078       -0.001683\n",
       "...         ...    ...         ...                ...             ...\n",
       "236802       G9     S5        4162            998.998        0.162267\n",
       "236803       G9     S5        4163            999.238        0.164275\n",
       "236804       G9     S5        4164            999.478        0.163733\n",
       "236805       G9     S5        4165            999.718        0.163325\n",
       "236806       G9     S5        4166            999.918        0.162912\n",
       "\n",
       "[236807 rows x 5 columns]"
      ]
     },
     "execution_count": 2,
     "metadata": {},
     "output_type": "execute_result"
    }
   ],
   "source": [
    "dset = pd.read_csv(\"../results/dataset_minutes.csv\")\n",
    "dset"
   ]
  },
  {
   "cell_type": "code",
   "execution_count": 3,
   "id": "95743f94-0bda-4dcf-bd34-133582cab997",
   "metadata": {},
   "outputs": [],
   "source": [
    "material = \"G10\"\n",
    "sample = \"S3\"\n",
    "train_ratio = 0.6"
   ]
  },
  {
   "cell_type": "code",
   "execution_count": 4,
   "id": "7b18f18d-eeb0-4a63-91d5-d526d1d39432",
   "metadata": {},
   "outputs": [],
   "source": [
    "def prepare_col(dset, col):\n",
    "    serie = TimeSeries.from_dataframe(dset, time_col=\"Time [min]\", value_cols=col)\n",
    "    return serie.astype(np.float32)"
   ]
  },
  {
   "cell_type": "code",
   "execution_count": 5,
   "id": "64cd3967-8e52-4655-aa4e-9fbf8ffd0fdc",
   "metadata": {},
   "outputs": [],
   "source": [
    "dset_sample = dset[(dset[\"material\"] == material) & (dset[\"sample\"] == sample)]\n",
    "serie_wear = prepare_col(dset_sample, \"Wear Loss [mm]\")\n",
    "serie_train, serie_test = serie_wear.split_after(train_ratio)"
   ]
  },
  {
   "cell_type": "code",
   "execution_count": 6,
   "id": "2d81f7ab-286f-4952-8c09-fcbe8eb27591",
   "metadata": {},
   "outputs": [
    {
     "data": {
      "image/png": "[encoded data removed]",
      "text/plain": [
       "<Figure size 700x400 with 1 Axes>"
      ]
     },
     "metadata": {},
     "output_type": "display_data"
    }
   ],
   "source": [
    "_, ax = plt.subplots(figsize=(7, 4))\n",
    "serie_train.plot(label=\"train\", ax=ax)\n",
    "serie_test.plot(label=\"test\", ax=ax)\n",
    "_ = ax.set_ylabel(\"Wear Loss [mm]\")"
   ]
  },
  {
   "cell_type": "code",
   "execution_count": 7,
   "id": "ede5d2d1-b3b6-4f68-934f-d28d88728c48",
   "metadata": {},
   "outputs": [],
   "source": [
    "scaler = Scaler()\n",
    "serie_train_scaled = scaler.fit_transform(serie_train)"
   ]
  },
  {
   "cell_type": "markdown",
   "id": "0a035235-41ea-42b1-8b04-fa69f5ab052b",
   "metadata": {},
   "source": [
    "## Model training"
   ]
  },
  {
   "cell_type": "code",
   "execution_count": 8,
   "id": "98490f46-764d-4667-a936-f50c23921ee0",
   "metadata": {},
   "outputs": [],
   "source": [
    "model = ExponentialSmoothing(trend=ModelMode.ADDITIVE, damped=True, seasonal=None)"
   ]
  },
  {
   "cell_type": "code",
   "execution_count": 9,
   "id": "0fe32b24-6703-4f18-ae01-89cc176b41ff",
   "metadata": {},
   "outputs": [
    {
     "data": {
      "text/plain": [
       "<darts.models.forecasting.exponential_smoothing.ExponentialSmoothing at 0x2aab8cf09570>"
      ]
     },
     "execution_count": 9,
     "metadata": {},
     "output_type": "execute_result"
    }
   ],
   "source": [
    "model.fit(serie_train_scaled)"
   ]
  },
  {
   "cell_type": "markdown",
   "id": "357bbbd5-355f-414a-bddc-a394a603cb0e",
   "metadata": {},
   "source": [
    "## Predictions"
   ]
  },
  {
   "cell_type": "code",
   "execution_count": 10,
   "id": "9c35d1bb-e336-473d-9c33-b30a8724a6d1",
   "metadata": {},
   "outputs": [],
   "source": [
    "serie_forecast_scaled = model.predict(len(serie_test))\n",
    "serie_forecast = scaler.inverse_transform(serie_forecast_scaled)"
   ]
  },
  {
   "cell_type": "code",
   "execution_count": 11,
   "id": "7afe462f-aa2b-4350-a886-a37502041bd0",
   "metadata": {},
   "outputs": [
    {
     "data": {
      "image/png": "[encoded data removed]",
      "text/plain": [
       "<Figure size 700x400 with 1 Axes>"
      ]
     },
     "metadata": {},
     "output_type": "display_data"
    }
   ],
   "source": [
    "_, ax = plt.subplots(figsize=(7, 4))\n",
    "serie_train.plot(label=\"train\", ax=ax)\n",
    "serie_test.plot(label=\"test\", ax=ax)\n",
    "serie_forecast.plot(label=\"predictions\", ax=ax)\n",
    "_ = ax.set_ylabel(\"Wear Loss [mm]\")"
   ]
  },
  {
   "cell_type": "markdown",
   "id": "1d710883-bf5f-48ad-afe3-f69cb7328038",
   "metadata": {},
   "source": [
    "We compute errors between observation and predictions but only at the **end point** of the trace."
   ]
  },
  {
   "cell_type": "code",
   "execution_count": 12,
   "id": "f72f5160-79d3-4d2e-b77e-c813cb5d7237",
   "metadata": {},
   "outputs": [],
   "source": [
    "scores_functions = {\n",
    "    \"MAE\": metrics.mae,\n",
    "    \"RMSE\": metrics.rmse,\n",
    "    \"MAPE\": metrics.mape,\n",
    "}"
   ]
  },
  {
   "cell_type": "code",
   "execution_count": 13,
   "id": "82ac2b86-f7e7-473e-bc26-ce57f18008c5",
   "metadata": {},
   "outputs": [],
   "source": [
    "scores = {\n",
    "    key: func(serie_test[-1], serie_forecast[-1])\n",
    "    for key, func in scores_functions.items()\n",
    "}\n",
    "scores = (\n",
    "    pd.DataFrame.from_dict(scores, orient=\"index\", columns=(\"value\",))\n",
    "    .reset_index()\n",
    "    .rename(columns={\"index\": \"metric\"})\n",
    ")"
   ]
  },
  {
   "cell_type": "code",
   "execution_count": 14,
   "id": "9ba16496-cee6-4bd6-b2a9-7b4dc9d6bd67",
   "metadata": {},
   "outputs": [
    {
     "data": {
      "text/html": [
       "<div>\n",
       "<style scoped>\n",
       "    .dataframe tbody tr th:only-of-type {\n",
       "        vertical-align: middle;\n",
       "    }\n",
       "\n",
       "    .dataframe tbody tr th {\n",
       "        vertical-align: top;\n",
       "    }\n",
       "\n",
       "    .dataframe thead th {\n",
       "        text-align: right;\n",
       "    }\n",
       "</style>\n",
       "<table border=\"1\" class=\"dataframe\">\n",
       "  <thead>\n",
       "    <tr style=\"text-align: right;\">\n",
       "      <th></th>\n",
       "      <th>metric</th>\n",
       "      <th>value</th>\n",
       "    </tr>\n",
       "  </thead>\n",
       "  <tbody>\n",
       "    <tr>\n",
       "      <th>0</th>\n",
       "      <td>MAE</td>\n",
       "      <td>0.011439</td>\n",
       "    </tr>\n",
       "    <tr>\n",
       "      <th>1</th>\n",
       "      <td>RMSE</td>\n",
       "      <td>0.011439</td>\n",
       "    </tr>\n",
       "    <tr>\n",
       "      <th>2</th>\n",
       "      <td>MAPE</td>\n",
       "      <td>6.275940</td>\n",
       "    </tr>\n",
       "  </tbody>\n",
       "</table>\n",
       "</div>"
      ],
      "text/plain": [
       "  metric     value\n",
       "0    MAE  0.011439\n",
       "1   RMSE  0.011439\n",
       "2   MAPE  6.275940"
      ]
     },
     "execution_count": 14,
     "metadata": {},
     "output_type": "execute_result"
    }
   ],
   "source": [
    "scores"
   ]
  },
  {
   "cell_type": "code",
   "execution_count": null,
   "id": "a37cfcc0-7965-4bc8-b9bd-1dfb48bdd445",
   "metadata": {},
   "outputs": [],
   "source": []
  }
 ],
 "metadata": {
  "kernelspec": {
   "display_name": "ml_tooth",
   "language": "python",
   "name": "ml_tooth"
  },
  "language_info": {
   "codemirror_mode": {
    "name": "ipython",
    "version": 3
   },
   "file_extension": ".py",
   "mimetype": "text/x-python",
   "name": "python",
   "nbconvert_exporter": "python",
   "pygments_lexer": "ipython3",
   "version": "3.10.5"
  }
 },
 "nbformat": 4,
 "nbformat_minor": 5
}
